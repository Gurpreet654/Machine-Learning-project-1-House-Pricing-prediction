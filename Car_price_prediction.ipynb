{
  "nbformat": 4,
  "nbformat_minor": 0,
  "metadata": {
    "colab": {
      "provenance": [],
      "authorship_tag": "ABX9TyMJC5bjQEoZEjGuMJU80KOg"
    },
    "kernelspec": {
      "name": "python3",
      "display_name": "Python 3"
    },
    "language_info": {
      "name": "python"
    }
  },
  "cells": [
    {
      "cell_type": "markdown",
      "source": [
        "importing the required libraries"
      ],
      "metadata": {
        "id": "tcHYQBmqj6X7"
      }
    },
    {
      "cell_type": "code",
      "execution_count": 2,
      "metadata": {
        "id": "trILLeMWT_cC"
      },
      "outputs": [],
      "source": [
        "import pandas as pd\n",
        "import numpy as np\n",
        "import matplotlib.pyplot as plt\n",
        "import matplotlib"
      ]
    },
    {
      "cell_type": "markdown",
      "source": [
        "loading the dataset [(Kaggle Download Link)](https://www.kaggle.com/datasets/ander289386/cars-germany)"
      ],
      "metadata": {
        "id": "vIW-wQoOkFyQ"
      }
    },
    {
      "cell_type": "code",
      "source": [
        "df1=pd.read_csv(\"autoscout24-germany-dataset.csv\")\n",
        "df1.head(10)"
      ],
      "metadata": {
        "colab": {
          "base_uri": "https://localhost:8080/",
          "height": 363
        },
        "id": "hu2KsUCU_hMP",
        "outputId": "ed39d5f0-1490-4f36-a850-02d5b09da092"
      },
      "execution_count": 4,
      "outputs": [
        {
          "output_type": "execute_result",
          "data": {
            "text/plain": [
              "   mileage        make    model               fuel       gear offerType  \\\n",
              "0   235000         BMW      316             Diesel     Manual      Used   \n",
              "1    92800  Volkswagen     Golf           Gasoline     Manual      Used   \n",
              "2   149300        SEAT     Exeo           Gasoline     Manual      Used   \n",
              "3    96200     Renault   Megane           Gasoline     Manual      Used   \n",
              "4   156000     Peugeot      308           Gasoline     Manual      Used   \n",
              "5   147000      Toyota    Auris  Electric/Gasoline  Automatic      Used   \n",
              "6    91894     Renault   Scenic             Diesel     Manual      Used   \n",
              "7   127500        Opel   Zafira           Gasoline     Manual      Used   \n",
              "8   115000       Mazda        3           Gasoline  Automatic      Used   \n",
              "9      104        Ford  Transit             Diesel     Manual      Used   \n",
              "\n",
              "   price     hp  year  \n",
              "0   6800  116.0  2011  \n",
              "1   6877  122.0  2011  \n",
              "2   6900  160.0  2011  \n",
              "3   6950  110.0  2011  \n",
              "4   6950  156.0  2011  \n",
              "5   6950   99.0  2011  \n",
              "6   6970  131.0  2011  \n",
              "7   6972  116.0  2011  \n",
              "8   6980  150.0  2011  \n",
              "9   6990   86.0  2011  "
            ],
            "text/html": [
              "\n",
              "  <div id=\"df-99f829e0-1cbb-4a55-972d-1cc73ce9b1e5\">\n",
              "    <div class=\"colab-df-container\">\n",
              "      <div>\n",
              "<style scoped>\n",
              "    .dataframe tbody tr th:only-of-type {\n",
              "        vertical-align: middle;\n",
              "    }\n",
              "\n",
              "    .dataframe tbody tr th {\n",
              "        vertical-align: top;\n",
              "    }\n",
              "\n",
              "    .dataframe thead th {\n",
              "        text-align: right;\n",
              "    }\n",
              "</style>\n",
              "<table border=\"1\" class=\"dataframe\">\n",
              "  <thead>\n",
              "    <tr style=\"text-align: right;\">\n",
              "      <th></th>\n",
              "      <th>mileage</th>\n",
              "      <th>make</th>\n",
              "      <th>model</th>\n",
              "      <th>fuel</th>\n",
              "      <th>gear</th>\n",
              "      <th>offerType</th>\n",
              "      <th>price</th>\n",
              "      <th>hp</th>\n",
              "      <th>year</th>\n",
              "    </tr>\n",
              "  </thead>\n",
              "  <tbody>\n",
              "    <tr>\n",
              "      <th>0</th>\n",
              "      <td>235000</td>\n",
              "      <td>BMW</td>\n",
              "      <td>316</td>\n",
              "      <td>Diesel</td>\n",
              "      <td>Manual</td>\n",
              "      <td>Used</td>\n",
              "      <td>6800</td>\n",
              "      <td>116.0</td>\n",
              "      <td>2011</td>\n",
              "    </tr>\n",
              "    <tr>\n",
              "      <th>1</th>\n",
              "      <td>92800</td>\n",
              "      <td>Volkswagen</td>\n",
              "      <td>Golf</td>\n",
              "      <td>Gasoline</td>\n",
              "      <td>Manual</td>\n",
              "      <td>Used</td>\n",
              "      <td>6877</td>\n",
              "      <td>122.0</td>\n",
              "      <td>2011</td>\n",
              "    </tr>\n",
              "    <tr>\n",
              "      <th>2</th>\n",
              "      <td>149300</td>\n",
              "      <td>SEAT</td>\n",
              "      <td>Exeo</td>\n",
              "      <td>Gasoline</td>\n",
              "      <td>Manual</td>\n",
              "      <td>Used</td>\n",
              "      <td>6900</td>\n",
              "      <td>160.0</td>\n",
              "      <td>2011</td>\n",
              "    </tr>\n",
              "    <tr>\n",
              "      <th>3</th>\n",
              "      <td>96200</td>\n",
              "      <td>Renault</td>\n",
              "      <td>Megane</td>\n",
              "      <td>Gasoline</td>\n",
              "      <td>Manual</td>\n",
              "      <td>Used</td>\n",
              "      <td>6950</td>\n",
              "      <td>110.0</td>\n",
              "      <td>2011</td>\n",
              "    </tr>\n",
              "    <tr>\n",
              "      <th>4</th>\n",
              "      <td>156000</td>\n",
              "      <td>Peugeot</td>\n",
              "      <td>308</td>\n",
              "      <td>Gasoline</td>\n",
              "      <td>Manual</td>\n",
              "      <td>Used</td>\n",
              "      <td>6950</td>\n",
              "      <td>156.0</td>\n",
              "      <td>2011</td>\n",
              "    </tr>\n",
              "    <tr>\n",
              "      <th>5</th>\n",
              "      <td>147000</td>\n",
              "      <td>Toyota</td>\n",
              "      <td>Auris</td>\n",
              "      <td>Electric/Gasoline</td>\n",
              "      <td>Automatic</td>\n",
              "      <td>Used</td>\n",
              "      <td>6950</td>\n",
              "      <td>99.0</td>\n",
              "      <td>2011</td>\n",
              "    </tr>\n",
              "    <tr>\n",
              "      <th>6</th>\n",
              "      <td>91894</td>\n",
              "      <td>Renault</td>\n",
              "      <td>Scenic</td>\n",
              "      <td>Diesel</td>\n",
              "      <td>Manual</td>\n",
              "      <td>Used</td>\n",
              "      <td>6970</td>\n",
              "      <td>131.0</td>\n",
              "      <td>2011</td>\n",
              "    </tr>\n",
              "    <tr>\n",
              "      <th>7</th>\n",
              "      <td>127500</td>\n",
              "      <td>Opel</td>\n",
              "      <td>Zafira</td>\n",
              "      <td>Gasoline</td>\n",
              "      <td>Manual</td>\n",
              "      <td>Used</td>\n",
              "      <td>6972</td>\n",
              "      <td>116.0</td>\n",
              "      <td>2011</td>\n",
              "    </tr>\n",
              "    <tr>\n",
              "      <th>8</th>\n",
              "      <td>115000</td>\n",
              "      <td>Mazda</td>\n",
              "      <td>3</td>\n",
              "      <td>Gasoline</td>\n",
              "      <td>Automatic</td>\n",
              "      <td>Used</td>\n",
              "      <td>6980</td>\n",
              "      <td>150.0</td>\n",
              "      <td>2011</td>\n",
              "    </tr>\n",
              "    <tr>\n",
              "      <th>9</th>\n",
              "      <td>104</td>\n",
              "      <td>Ford</td>\n",
              "      <td>Transit</td>\n",
              "      <td>Diesel</td>\n",
              "      <td>Manual</td>\n",
              "      <td>Used</td>\n",
              "      <td>6990</td>\n",
              "      <td>86.0</td>\n",
              "      <td>2011</td>\n",
              "    </tr>\n",
              "  </tbody>\n",
              "</table>\n",
              "</div>\n",
              "      <button class=\"colab-df-convert\" onclick=\"convertToInteractive('df-99f829e0-1cbb-4a55-972d-1cc73ce9b1e5')\"\n",
              "              title=\"Convert this dataframe to an interactive table.\"\n",
              "              style=\"display:none;\">\n",
              "        \n",
              "  <svg xmlns=\"http://www.w3.org/2000/svg\" height=\"24px\"viewBox=\"0 0 24 24\"\n",
              "       width=\"24px\">\n",
              "    <path d=\"M0 0h24v24H0V0z\" fill=\"none\"/>\n",
              "    <path d=\"M18.56 5.44l.94 2.06.94-2.06 2.06-.94-2.06-.94-.94-2.06-.94 2.06-2.06.94zm-11 1L8.5 8.5l.94-2.06 2.06-.94-2.06-.94L8.5 2.5l-.94 2.06-2.06.94zm10 10l.94 2.06.94-2.06 2.06-.94-2.06-.94-.94-2.06-.94 2.06-2.06.94z\"/><path d=\"M17.41 7.96l-1.37-1.37c-.4-.4-.92-.59-1.43-.59-.52 0-1.04.2-1.43.59L10.3 9.45l-7.72 7.72c-.78.78-.78 2.05 0 2.83L4 21.41c.39.39.9.59 1.41.59.51 0 1.02-.2 1.41-.59l7.78-7.78 2.81-2.81c.8-.78.8-2.07 0-2.86zM5.41 20L4 18.59l7.72-7.72 1.47 1.35L5.41 20z\"/>\n",
              "  </svg>\n",
              "      </button>\n",
              "      \n",
              "  <style>\n",
              "    .colab-df-container {\n",
              "      display:flex;\n",
              "      flex-wrap:wrap;\n",
              "      gap: 12px;\n",
              "    }\n",
              "\n",
              "    .colab-df-convert {\n",
              "      background-color: #E8F0FE;\n",
              "      border: none;\n",
              "      border-radius: 50%;\n",
              "      cursor: pointer;\n",
              "      display: none;\n",
              "      fill: #1967D2;\n",
              "      height: 32px;\n",
              "      padding: 0 0 0 0;\n",
              "      width: 32px;\n",
              "    }\n",
              "\n",
              "    .colab-df-convert:hover {\n",
              "      background-color: #E2EBFA;\n",
              "      box-shadow: 0px 1px 2px rgba(60, 64, 67, 0.3), 0px 1px 3px 1px rgba(60, 64, 67, 0.15);\n",
              "      fill: #174EA6;\n",
              "    }\n",
              "\n",
              "    [theme=dark] .colab-df-convert {\n",
              "      background-color: #3B4455;\n",
              "      fill: #D2E3FC;\n",
              "    }\n",
              "\n",
              "    [theme=dark] .colab-df-convert:hover {\n",
              "      background-color: #434B5C;\n",
              "      box-shadow: 0px 1px 3px 1px rgba(0, 0, 0, 0.15);\n",
              "      filter: drop-shadow(0px 1px 2px rgba(0, 0, 0, 0.3));\n",
              "      fill: #FFFFFF;\n",
              "    }\n",
              "  </style>\n",
              "\n",
              "      <script>\n",
              "        const buttonEl =\n",
              "          document.querySelector('#df-99f829e0-1cbb-4a55-972d-1cc73ce9b1e5 button.colab-df-convert');\n",
              "        buttonEl.style.display =\n",
              "          google.colab.kernel.accessAllowed ? 'block' : 'none';\n",
              "\n",
              "        async function convertToInteractive(key) {\n",
              "          const element = document.querySelector('#df-99f829e0-1cbb-4a55-972d-1cc73ce9b1e5');\n",
              "          const dataTable =\n",
              "            await google.colab.kernel.invokeFunction('convertToInteractive',\n",
              "                                                     [key], {});\n",
              "          if (!dataTable) return;\n",
              "\n",
              "          const docLinkHtml = 'Like what you see? Visit the ' +\n",
              "            '<a target=\"_blank\" href=https://colab.research.google.com/notebooks/data_table.ipynb>data table notebook</a>'\n",
              "            + ' to learn more about interactive tables.';\n",
              "          element.innerHTML = '';\n",
              "          dataTable['output_type'] = 'display_data';\n",
              "          await google.colab.output.renderOutput(dataTable, element);\n",
              "          const docLink = document.createElement('div');\n",
              "          docLink.innerHTML = docLinkHtml;\n",
              "          element.appendChild(docLink);\n",
              "        }\n",
              "      </script>\n",
              "    </div>\n",
              "  </div>\n",
              "  "
            ]
          },
          "metadata": {},
          "execution_count": 4
        }
      ]
    },
    {
      "cell_type": "markdown",
      "source": [
        "Data Cleaning: handling with NaN values"
      ],
      "metadata": {
        "id": "Z3m4K66BlNQv"
      }
    },
    {
      "cell_type": "code",
      "source": [
        "df1.isnull().sum()    #check how many value have nan values"
      ],
      "metadata": {
        "colab": {
          "base_uri": "https://localhost:8080/"
        },
        "id": "x7qm0A5uBECP",
        "outputId": "540f9808-e293-4eb1-aa91-820fff13a1f2"
      },
      "execution_count": 8,
      "outputs": [
        {
          "output_type": "execute_result",
          "data": {
            "text/plain": [
              "mileage        0\n",
              "make           0\n",
              "model        143\n",
              "fuel           0\n",
              "gear         182\n",
              "offerType      0\n",
              "price          0\n",
              "hp            29\n",
              "year           0\n",
              "dtype: int64"
            ]
          },
          "metadata": {},
          "execution_count": 8
        }
      ]
    },
    {
      "cell_type": "code",
      "source": [
        "df2=df1.dropna()            #very small number of values have Nan values so simply drop them\n",
        "df2.isnull().sum()          # mean or aveage could also be take if you have small dataset"
      ],
      "metadata": {
        "colab": {
          "base_uri": "https://localhost:8080/"
        },
        "id": "O9aZuTzWBKqE",
        "outputId": "f9ee3a35-7baf-4610-ff56-4c02fd82357d"
      },
      "execution_count": 10,
      "outputs": [
        {
          "output_type": "execute_result",
          "data": {
            "text/plain": [
              "mileage      0\n",
              "make         0\n",
              "model        0\n",
              "fuel         0\n",
              "gear         0\n",
              "offerType    0\n",
              "price        0\n",
              "hp           0\n",
              "year         0\n",
              "dtype: int64"
            ]
          },
          "metadata": {},
          "execution_count": 10
        }
      ]
    },
    {
      "cell_type": "markdown",
      "source": [
        "Count the number of cars of each brand"
      ],
      "metadata": {
        "id": "kNaRW-hFmXT9"
      }
    },
    {
      "cell_type": "code",
      "source": [
        "counts_of_makers=df1.groupby('make')['make'].agg('count').sort_values(ascending=False)\n",
        "counts_of_makers"
      ],
      "metadata": {
        "id": "3HtAx_WuAFxB",
        "colab": {
          "base_uri": "https://localhost:8080/"
        },
        "outputId": "ad1420b0-27f3-4ce7-f6e2-bbe0108b13fd"
      },
      "execution_count": 16,
      "outputs": [
        {
          "output_type": "execute_result",
          "data": {
            "text/plain": [
              "make\n",
              "Volkswagen    6931\n",
              "Opel          4814\n",
              "Ford          4442\n",
              "Skoda         2889\n",
              "Renault       2830\n",
              "              ... \n",
              "Tazzari          1\n",
              "Trucks-Lkw       1\n",
              "FISKER           1\n",
              "Zhidou           1\n",
              "9ff              1\n",
              "Name: make, Length: 77, dtype: int64"
            ]
          },
          "metadata": {},
          "execution_count": 16
        }
      ]
    },
    {
      "cell_type": "code",
      "source": [
        "df2['make'].unique()"
      ],
      "metadata": {
        "colab": {
          "base_uri": "https://localhost:8080/"
        },
        "id": "sHFY2_cQBjMG",
        "outputId": "818f289e-3a33-425b-c498-d3859a2807ba"
      },
      "execution_count": 15,
      "outputs": [
        {
          "output_type": "execute_result",
          "data": {
            "text/plain": [
              "array(['BMW', 'Volkswagen', 'SEAT', 'Renault', 'Peugeot', 'Toyota',\n",
              "       'Opel', 'Mazda', 'Ford', 'Mercedes-Benz', 'Chevrolet', 'Audi',\n",
              "       'Fiat', 'Kia', 'Dacia', 'MINI', 'Hyundai', 'Skoda', 'Citroen',\n",
              "       'Infiniti', 'Suzuki', 'SsangYong', 'smart', 'Cupra', 'Volvo',\n",
              "       'Jaguar', 'Porsche', 'Nissan', 'Honda', 'Mitsubishi', 'Lexus',\n",
              "       'Jeep', 'Maserati', 'Bentley', 'Land', 'Alfa', 'Subaru', 'Dodge',\n",
              "       'Microcar', 'Lamborghini', 'Lada', 'Tesla', 'Chrysler', 'McLaren',\n",
              "       'Aston', 'Rolls-Royce', 'Lancia', 'Abarth', 'DS', 'Daihatsu',\n",
              "       'Ligier', 'Ferrari', 'Aixam', 'Zhidou', 'Morgan', 'Maybach', 'RAM',\n",
              "       'Alpina', 'Polestar', 'Brilliance', 'Piaggio', 'FISKER', 'Others',\n",
              "       'Cadillac', 'Iveco', 'Isuzu', 'Corvette', 'Baic', 'DFSK',\n",
              "       'Estrima', 'Alpine'], dtype=object)"
            ]
          },
          "metadata": {},
          "execution_count": 15
        }
      ]
    },
    {
      "cell_type": "markdown",
      "source": [
        "Check if some brands have very less number of cars, lets say less than 5"
      ],
      "metadata": {
        "id": "e-LDWBdQnPJv"
      }
    },
    {
      "cell_type": "code",
      "source": [
        "make_stat_less_than_5=counts_of_makers[counts_of_makers<5]\n",
        "print('Total number of Brands:',len(df2.make.unique()))\n",
        "print('Number of brands less than 5 cars:',len(make_stat_less_than_5))\n",
        "\n",
        "# sum(make_stat_less_than_5)"
      ],
      "metadata": {
        "colab": {
          "base_uri": "https://localhost:8080/"
        },
        "id": "94QU5vnSnfsR",
        "outputId": "25d69fc7-aa99-4db7-caef-ad1a4864e77c"
      },
      "execution_count": 44,
      "outputs": [
        {
          "output_type": "stream",
          "name": "stdout",
          "text": [
            "Total number of Brands: 71\n",
            "Number of brands less than 5 cars: 21\n"
          ]
        }
      ]
    },
    {
      "cell_type": "markdown",
      "source": [
        "To make it simple assign all of these cars to Other and drop them"
      ],
      "metadata": {
        "id": "i4H3XbEfqeex"
      }
    },
    {
      "cell_type": "code",
      "source": [
        "df3=df2.copy()\n",
        "df3.make=df3.make.apply(lambda x: 'others' if x in make_stat_less_than_5 else x)"
      ],
      "metadata": {
        "id": "1zbuR96JfbHB"
      },
      "execution_count": 45,
      "outputs": []
    },
    {
      "cell_type": "code",
      "source": [
        "df4=df3[~(df3.make=='others')]"
      ],
      "metadata": {
        "id": "S8e_lArEu9Bb"
      },
      "execution_count": 96,
      "outputs": []
    },
    {
      "cell_type": "code",
      "source": [
        "print('Total number of Brands',len(df2.make.unique()))\n",
        "print('Number of brands with other',len(df4.make.unique()))"
      ],
      "metadata": {
        "colab": {
          "base_uri": "https://localhost:8080/"
        },
        "id": "bs_eePxqBZNF",
        "outputId": "98cdc717-f8d8-48ee-d2e0-247aa30f69fd"
      },
      "execution_count": 97,
      "outputs": [
        {
          "output_type": "stream",
          "name": "stdout",
          "text": [
            "Total number of Brands 71\n",
            "Number of brands with other 56\n"
          ]
        }
      ]
    },
    {
      "cell_type": "code",
      "source": [
        "df4.head()"
      ],
      "metadata": {
        "colab": {
          "base_uri": "https://localhost:8080/",
          "height": 206
        },
        "id": "-VZbY2-hs8Kn",
        "outputId": "3ef3e824-bd15-483b-ad16-65db56b43371"
      },
      "execution_count": 98,
      "outputs": [
        {
          "output_type": "execute_result",
          "data": {
            "text/plain": [
              "   mileage        make   model      fuel    gear offerType  price     hp  year\n",
              "0   235000         BMW     316    Diesel  Manual      Used   6800  116.0  2011\n",
              "1    92800  Volkswagen    Golf  Gasoline  Manual      Used   6877  122.0  2011\n",
              "2   149300        SEAT    Exeo  Gasoline  Manual      Used   6900  160.0  2011\n",
              "3    96200     Renault  Megane  Gasoline  Manual      Used   6950  110.0  2011\n",
              "4   156000     Peugeot     308  Gasoline  Manual      Used   6950  156.0  2011"
            ],
            "text/html": [
              "\n",
              "  <div id=\"df-4a04c7e0-b13c-418d-b1a7-4e6d605edba9\">\n",
              "    <div class=\"colab-df-container\">\n",
              "      <div>\n",
              "<style scoped>\n",
              "    .dataframe tbody tr th:only-of-type {\n",
              "        vertical-align: middle;\n",
              "    }\n",
              "\n",
              "    .dataframe tbody tr th {\n",
              "        vertical-align: top;\n",
              "    }\n",
              "\n",
              "    .dataframe thead th {\n",
              "        text-align: right;\n",
              "    }\n",
              "</style>\n",
              "<table border=\"1\" class=\"dataframe\">\n",
              "  <thead>\n",
              "    <tr style=\"text-align: right;\">\n",
              "      <th></th>\n",
              "      <th>mileage</th>\n",
              "      <th>make</th>\n",
              "      <th>model</th>\n",
              "      <th>fuel</th>\n",
              "      <th>gear</th>\n",
              "      <th>offerType</th>\n",
              "      <th>price</th>\n",
              "      <th>hp</th>\n",
              "      <th>year</th>\n",
              "    </tr>\n",
              "  </thead>\n",
              "  <tbody>\n",
              "    <tr>\n",
              "      <th>0</th>\n",
              "      <td>235000</td>\n",
              "      <td>BMW</td>\n",
              "      <td>316</td>\n",
              "      <td>Diesel</td>\n",
              "      <td>Manual</td>\n",
              "      <td>Used</td>\n",
              "      <td>6800</td>\n",
              "      <td>116.0</td>\n",
              "      <td>2011</td>\n",
              "    </tr>\n",
              "    <tr>\n",
              "      <th>1</th>\n",
              "      <td>92800</td>\n",
              "      <td>Volkswagen</td>\n",
              "      <td>Golf</td>\n",
              "      <td>Gasoline</td>\n",
              "      <td>Manual</td>\n",
              "      <td>Used</td>\n",
              "      <td>6877</td>\n",
              "      <td>122.0</td>\n",
              "      <td>2011</td>\n",
              "    </tr>\n",
              "    <tr>\n",
              "      <th>2</th>\n",
              "      <td>149300</td>\n",
              "      <td>SEAT</td>\n",
              "      <td>Exeo</td>\n",
              "      <td>Gasoline</td>\n",
              "      <td>Manual</td>\n",
              "      <td>Used</td>\n",
              "      <td>6900</td>\n",
              "      <td>160.0</td>\n",
              "      <td>2011</td>\n",
              "    </tr>\n",
              "    <tr>\n",
              "      <th>3</th>\n",
              "      <td>96200</td>\n",
              "      <td>Renault</td>\n",
              "      <td>Megane</td>\n",
              "      <td>Gasoline</td>\n",
              "      <td>Manual</td>\n",
              "      <td>Used</td>\n",
              "      <td>6950</td>\n",
              "      <td>110.0</td>\n",
              "      <td>2011</td>\n",
              "    </tr>\n",
              "    <tr>\n",
              "      <th>4</th>\n",
              "      <td>156000</td>\n",
              "      <td>Peugeot</td>\n",
              "      <td>308</td>\n",
              "      <td>Gasoline</td>\n",
              "      <td>Manual</td>\n",
              "      <td>Used</td>\n",
              "      <td>6950</td>\n",
              "      <td>156.0</td>\n",
              "      <td>2011</td>\n",
              "    </tr>\n",
              "  </tbody>\n",
              "</table>\n",
              "</div>\n",
              "      <button class=\"colab-df-convert\" onclick=\"convertToInteractive('df-4a04c7e0-b13c-418d-b1a7-4e6d605edba9')\"\n",
              "              title=\"Convert this dataframe to an interactive table.\"\n",
              "              style=\"display:none;\">\n",
              "        \n",
              "  <svg xmlns=\"http://www.w3.org/2000/svg\" height=\"24px\"viewBox=\"0 0 24 24\"\n",
              "       width=\"24px\">\n",
              "    <path d=\"M0 0h24v24H0V0z\" fill=\"none\"/>\n",
              "    <path d=\"M18.56 5.44l.94 2.06.94-2.06 2.06-.94-2.06-.94-.94-2.06-.94 2.06-2.06.94zm-11 1L8.5 8.5l.94-2.06 2.06-.94-2.06-.94L8.5 2.5l-.94 2.06-2.06.94zm10 10l.94 2.06.94-2.06 2.06-.94-2.06-.94-.94-2.06-.94 2.06-2.06.94z\"/><path d=\"M17.41 7.96l-1.37-1.37c-.4-.4-.92-.59-1.43-.59-.52 0-1.04.2-1.43.59L10.3 9.45l-7.72 7.72c-.78.78-.78 2.05 0 2.83L4 21.41c.39.39.9.59 1.41.59.51 0 1.02-.2 1.41-.59l7.78-7.78 2.81-2.81c.8-.78.8-2.07 0-2.86zM5.41 20L4 18.59l7.72-7.72 1.47 1.35L5.41 20z\"/>\n",
              "  </svg>\n",
              "      </button>\n",
              "      \n",
              "  <style>\n",
              "    .colab-df-container {\n",
              "      display:flex;\n",
              "      flex-wrap:wrap;\n",
              "      gap: 12px;\n",
              "    }\n",
              "\n",
              "    .colab-df-convert {\n",
              "      background-color: #E8F0FE;\n",
              "      border: none;\n",
              "      border-radius: 50%;\n",
              "      cursor: pointer;\n",
              "      display: none;\n",
              "      fill: #1967D2;\n",
              "      height: 32px;\n",
              "      padding: 0 0 0 0;\n",
              "      width: 32px;\n",
              "    }\n",
              "\n",
              "    .colab-df-convert:hover {\n",
              "      background-color: #E2EBFA;\n",
              "      box-shadow: 0px 1px 2px rgba(60, 64, 67, 0.3), 0px 1px 3px 1px rgba(60, 64, 67, 0.15);\n",
              "      fill: #174EA6;\n",
              "    }\n",
              "\n",
              "    [theme=dark] .colab-df-convert {\n",
              "      background-color: #3B4455;\n",
              "      fill: #D2E3FC;\n",
              "    }\n",
              "\n",
              "    [theme=dark] .colab-df-convert:hover {\n",
              "      background-color: #434B5C;\n",
              "      box-shadow: 0px 1px 3px 1px rgba(0, 0, 0, 0.15);\n",
              "      filter: drop-shadow(0px 1px 2px rgba(0, 0, 0, 0.3));\n",
              "      fill: #FFFFFF;\n",
              "    }\n",
              "  </style>\n",
              "\n",
              "      <script>\n",
              "        const buttonEl =\n",
              "          document.querySelector('#df-4a04c7e0-b13c-418d-b1a7-4e6d605edba9 button.colab-df-convert');\n",
              "        buttonEl.style.display =\n",
              "          google.colab.kernel.accessAllowed ? 'block' : 'none';\n",
              "\n",
              "        async function convertToInteractive(key) {\n",
              "          const element = document.querySelector('#df-4a04c7e0-b13c-418d-b1a7-4e6d605edba9');\n",
              "          const dataTable =\n",
              "            await google.colab.kernel.invokeFunction('convertToInteractive',\n",
              "                                                     [key], {});\n",
              "          if (!dataTable) return;\n",
              "\n",
              "          const docLinkHtml = 'Like what you see? Visit the ' +\n",
              "            '<a target=\"_blank\" href=https://colab.research.google.com/notebooks/data_table.ipynb>data table notebook</a>'\n",
              "            + ' to learn more about interactive tables.';\n",
              "          element.innerHTML = '';\n",
              "          dataTable['output_type'] = 'display_data';\n",
              "          await google.colab.output.renderOutput(dataTable, element);\n",
              "          const docLink = document.createElement('div');\n",
              "          docLink.innerHTML = docLinkHtml;\n",
              "          element.appendChild(docLink);\n",
              "        }\n",
              "      </script>\n",
              "    </div>\n",
              "  </div>\n",
              "  "
            ]
          },
          "metadata": {},
          "execution_count": 98
        }
      ]
    },
    {
      "cell_type": "markdown",
      "source": [
        "For further simplification of dataset, drop unnecessary columns"
      ],
      "metadata": {
        "id": "ZeAawfqZssxy"
      }
    },
    {
      "cell_type": "code",
      "source": [
        "df5=df4.drop(['fuel','gear','offerType','model'],axis='columns')\n",
        "df5.head()"
      ],
      "metadata": {
        "colab": {
          "base_uri": "https://localhost:8080/",
          "height": 206
        },
        "id": "35M6m5wWsr67",
        "outputId": "8e334b11-5735-4dc0-e882-6ee361e1a810"
      },
      "execution_count": 99,
      "outputs": [
        {
          "output_type": "execute_result",
          "data": {
            "text/plain": [
              "   mileage        make  price     hp  year\n",
              "0   235000         BMW   6800  116.0  2011\n",
              "1    92800  Volkswagen   6877  122.0  2011\n",
              "2   149300        SEAT   6900  160.0  2011\n",
              "3    96200     Renault   6950  110.0  2011\n",
              "4   156000     Peugeot   6950  156.0  2011"
            ],
            "text/html": [
              "\n",
              "  <div id=\"df-aa627745-37e2-4db5-8dbe-342f88ed8425\">\n",
              "    <div class=\"colab-df-container\">\n",
              "      <div>\n",
              "<style scoped>\n",
              "    .dataframe tbody tr th:only-of-type {\n",
              "        vertical-align: middle;\n",
              "    }\n",
              "\n",
              "    .dataframe tbody tr th {\n",
              "        vertical-align: top;\n",
              "    }\n",
              "\n",
              "    .dataframe thead th {\n",
              "        text-align: right;\n",
              "    }\n",
              "</style>\n",
              "<table border=\"1\" class=\"dataframe\">\n",
              "  <thead>\n",
              "    <tr style=\"text-align: right;\">\n",
              "      <th></th>\n",
              "      <th>mileage</th>\n",
              "      <th>make</th>\n",
              "      <th>price</th>\n",
              "      <th>hp</th>\n",
              "      <th>year</th>\n",
              "    </tr>\n",
              "  </thead>\n",
              "  <tbody>\n",
              "    <tr>\n",
              "      <th>0</th>\n",
              "      <td>235000</td>\n",
              "      <td>BMW</td>\n",
              "      <td>6800</td>\n",
              "      <td>116.0</td>\n",
              "      <td>2011</td>\n",
              "    </tr>\n",
              "    <tr>\n",
              "      <th>1</th>\n",
              "      <td>92800</td>\n",
              "      <td>Volkswagen</td>\n",
              "      <td>6877</td>\n",
              "      <td>122.0</td>\n",
              "      <td>2011</td>\n",
              "    </tr>\n",
              "    <tr>\n",
              "      <th>2</th>\n",
              "      <td>149300</td>\n",
              "      <td>SEAT</td>\n",
              "      <td>6900</td>\n",
              "      <td>160.0</td>\n",
              "      <td>2011</td>\n",
              "    </tr>\n",
              "    <tr>\n",
              "      <th>3</th>\n",
              "      <td>96200</td>\n",
              "      <td>Renault</td>\n",
              "      <td>6950</td>\n",
              "      <td>110.0</td>\n",
              "      <td>2011</td>\n",
              "    </tr>\n",
              "    <tr>\n",
              "      <th>4</th>\n",
              "      <td>156000</td>\n",
              "      <td>Peugeot</td>\n",
              "      <td>6950</td>\n",
              "      <td>156.0</td>\n",
              "      <td>2011</td>\n",
              "    </tr>\n",
              "  </tbody>\n",
              "</table>\n",
              "</div>\n",
              "      <button class=\"colab-df-convert\" onclick=\"convertToInteractive('df-aa627745-37e2-4db5-8dbe-342f88ed8425')\"\n",
              "              title=\"Convert this dataframe to an interactive table.\"\n",
              "              style=\"display:none;\">\n",
              "        \n",
              "  <svg xmlns=\"http://www.w3.org/2000/svg\" height=\"24px\"viewBox=\"0 0 24 24\"\n",
              "       width=\"24px\">\n",
              "    <path d=\"M0 0h24v24H0V0z\" fill=\"none\"/>\n",
              "    <path d=\"M18.56 5.44l.94 2.06.94-2.06 2.06-.94-2.06-.94-.94-2.06-.94 2.06-2.06.94zm-11 1L8.5 8.5l.94-2.06 2.06-.94-2.06-.94L8.5 2.5l-.94 2.06-2.06.94zm10 10l.94 2.06.94-2.06 2.06-.94-2.06-.94-.94-2.06-.94 2.06-2.06.94z\"/><path d=\"M17.41 7.96l-1.37-1.37c-.4-.4-.92-.59-1.43-.59-.52 0-1.04.2-1.43.59L10.3 9.45l-7.72 7.72c-.78.78-.78 2.05 0 2.83L4 21.41c.39.39.9.59 1.41.59.51 0 1.02-.2 1.41-.59l7.78-7.78 2.81-2.81c.8-.78.8-2.07 0-2.86zM5.41 20L4 18.59l7.72-7.72 1.47 1.35L5.41 20z\"/>\n",
              "  </svg>\n",
              "      </button>\n",
              "      \n",
              "  <style>\n",
              "    .colab-df-container {\n",
              "      display:flex;\n",
              "      flex-wrap:wrap;\n",
              "      gap: 12px;\n",
              "    }\n",
              "\n",
              "    .colab-df-convert {\n",
              "      background-color: #E8F0FE;\n",
              "      border: none;\n",
              "      border-radius: 50%;\n",
              "      cursor: pointer;\n",
              "      display: none;\n",
              "      fill: #1967D2;\n",
              "      height: 32px;\n",
              "      padding: 0 0 0 0;\n",
              "      width: 32px;\n",
              "    }\n",
              "\n",
              "    .colab-df-convert:hover {\n",
              "      background-color: #E2EBFA;\n",
              "      box-shadow: 0px 1px 2px rgba(60, 64, 67, 0.3), 0px 1px 3px 1px rgba(60, 64, 67, 0.15);\n",
              "      fill: #174EA6;\n",
              "    }\n",
              "\n",
              "    [theme=dark] .colab-df-convert {\n",
              "      background-color: #3B4455;\n",
              "      fill: #D2E3FC;\n",
              "    }\n",
              "\n",
              "    [theme=dark] .colab-df-convert:hover {\n",
              "      background-color: #434B5C;\n",
              "      box-shadow: 0px 1px 3px 1px rgba(0, 0, 0, 0.15);\n",
              "      filter: drop-shadow(0px 1px 2px rgba(0, 0, 0, 0.3));\n",
              "      fill: #FFFFFF;\n",
              "    }\n",
              "  </style>\n",
              "\n",
              "      <script>\n",
              "        const buttonEl =\n",
              "          document.querySelector('#df-aa627745-37e2-4db5-8dbe-342f88ed8425 button.colab-df-convert');\n",
              "        buttonEl.style.display =\n",
              "          google.colab.kernel.accessAllowed ? 'block' : 'none';\n",
              "\n",
              "        async function convertToInteractive(key) {\n",
              "          const element = document.querySelector('#df-aa627745-37e2-4db5-8dbe-342f88ed8425');\n",
              "          const dataTable =\n",
              "            await google.colab.kernel.invokeFunction('convertToInteractive',\n",
              "                                                     [key], {});\n",
              "          if (!dataTable) return;\n",
              "\n",
              "          const docLinkHtml = 'Like what you see? Visit the ' +\n",
              "            '<a target=\"_blank\" href=https://colab.research.google.com/notebooks/data_table.ipynb>data table notebook</a>'\n",
              "            + ' to learn more about interactive tables.';\n",
              "          element.innerHTML = '';\n",
              "          dataTable['output_type'] = 'display_data';\n",
              "          await google.colab.output.renderOutput(dataTable, element);\n",
              "          const docLink = document.createElement('div');\n",
              "          docLink.innerHTML = docLinkHtml;\n",
              "          element.appendChild(docLink);\n",
              "        }\n",
              "      </script>\n",
              "    </div>\n",
              "  </div>\n",
              "  "
            ]
          },
          "metadata": {},
          "execution_count": 99
        }
      ]
    },
    {
      "cell_type": "markdown",
      "source": [
        "Hard-encoding for brand names(makers)"
      ],
      "metadata": {
        "id": "jhh7vVnksaSN"
      }
    },
    {
      "cell_type": "code",
      "source": [
        "dummies=pd.get_dummies(df5.make)"
      ],
      "metadata": {
        "id": "9I2e0n6mtG2r"
      },
      "execution_count": 100,
      "outputs": []
    },
    {
      "cell_type": "code",
      "source": [
        "df6=pd.concat([df5,dummies.drop('SsangYong',axis='columns')],axis=\"columns\")\n",
        "df6.head()"
      ],
      "metadata": {
        "colab": {
          "base_uri": "https://localhost:8080/",
          "height": 300
        },
        "id": "KeUihAOutY51",
        "outputId": "62895370-4e46-47b2-eba6-bb3c64345a10"
      },
      "execution_count": 101,
      "outputs": [
        {
          "output_type": "execute_result",
          "data": {
            "text/plain": [
              "   mileage        make  price     hp  year  Abarth  Alfa  Alpina  Alpine  \\\n",
              "0   235000         BMW   6800  116.0  2011       0     0       0       0   \n",
              "1    92800  Volkswagen   6877  122.0  2011       0     0       0       0   \n",
              "2   149300        SEAT   6900  160.0  2011       0     0       0       0   \n",
              "3    96200     Renault   6950  110.0  2011       0     0       0       0   \n",
              "4   156000     Peugeot   6950  156.0  2011       0     0       0       0   \n",
              "\n",
              "   Aston  ...  Renault  SEAT  Skoda  Subaru  Suzuki  Tesla  Toyota  \\\n",
              "0      0  ...        0     0      0       0       0      0       0   \n",
              "1      0  ...        0     0      0       0       0      0       0   \n",
              "2      0  ...        0     1      0       0       0      0       0   \n",
              "3      0  ...        1     0      0       0       0      0       0   \n",
              "4      0  ...        0     0      0       0       0      0       0   \n",
              "\n",
              "   Volkswagen  Volvo  smart  \n",
              "0           0      0      0  \n",
              "1           1      0      0  \n",
              "2           0      0      0  \n",
              "3           0      0      0  \n",
              "4           0      0      0  \n",
              "\n",
              "[5 rows x 60 columns]"
            ],
            "text/html": [
              "\n",
              "  <div id=\"df-c390af37-fff0-445e-b713-be79f1ba0e8f\">\n",
              "    <div class=\"colab-df-container\">\n",
              "      <div>\n",
              "<style scoped>\n",
              "    .dataframe tbody tr th:only-of-type {\n",
              "        vertical-align: middle;\n",
              "    }\n",
              "\n",
              "    .dataframe tbody tr th {\n",
              "        vertical-align: top;\n",
              "    }\n",
              "\n",
              "    .dataframe thead th {\n",
              "        text-align: right;\n",
              "    }\n",
              "</style>\n",
              "<table border=\"1\" class=\"dataframe\">\n",
              "  <thead>\n",
              "    <tr style=\"text-align: right;\">\n",
              "      <th></th>\n",
              "      <th>mileage</th>\n",
              "      <th>make</th>\n",
              "      <th>price</th>\n",
              "      <th>hp</th>\n",
              "      <th>year</th>\n",
              "      <th>Abarth</th>\n",
              "      <th>Alfa</th>\n",
              "      <th>Alpina</th>\n",
              "      <th>Alpine</th>\n",
              "      <th>Aston</th>\n",
              "      <th>...</th>\n",
              "      <th>Renault</th>\n",
              "      <th>SEAT</th>\n",
              "      <th>Skoda</th>\n",
              "      <th>Subaru</th>\n",
              "      <th>Suzuki</th>\n",
              "      <th>Tesla</th>\n",
              "      <th>Toyota</th>\n",
              "      <th>Volkswagen</th>\n",
              "      <th>Volvo</th>\n",
              "      <th>smart</th>\n",
              "    </tr>\n",
              "  </thead>\n",
              "  <tbody>\n",
              "    <tr>\n",
              "      <th>0</th>\n",
              "      <td>235000</td>\n",
              "      <td>BMW</td>\n",
              "      <td>6800</td>\n",
              "      <td>116.0</td>\n",
              "      <td>2011</td>\n",
              "      <td>0</td>\n",
              "      <td>0</td>\n",
              "      <td>0</td>\n",
              "      <td>0</td>\n",
              "      <td>0</td>\n",
              "      <td>...</td>\n",
              "      <td>0</td>\n",
              "      <td>0</td>\n",
              "      <td>0</td>\n",
              "      <td>0</td>\n",
              "      <td>0</td>\n",
              "      <td>0</td>\n",
              "      <td>0</td>\n",
              "      <td>0</td>\n",
              "      <td>0</td>\n",
              "      <td>0</td>\n",
              "    </tr>\n",
              "    <tr>\n",
              "      <th>1</th>\n",
              "      <td>92800</td>\n",
              "      <td>Volkswagen</td>\n",
              "      <td>6877</td>\n",
              "      <td>122.0</td>\n",
              "      <td>2011</td>\n",
              "      <td>0</td>\n",
              "      <td>0</td>\n",
              "      <td>0</td>\n",
              "      <td>0</td>\n",
              "      <td>0</td>\n",
              "      <td>...</td>\n",
              "      <td>0</td>\n",
              "      <td>0</td>\n",
              "      <td>0</td>\n",
              "      <td>0</td>\n",
              "      <td>0</td>\n",
              "      <td>0</td>\n",
              "      <td>0</td>\n",
              "      <td>1</td>\n",
              "      <td>0</td>\n",
              "      <td>0</td>\n",
              "    </tr>\n",
              "    <tr>\n",
              "      <th>2</th>\n",
              "      <td>149300</td>\n",
              "      <td>SEAT</td>\n",
              "      <td>6900</td>\n",
              "      <td>160.0</td>\n",
              "      <td>2011</td>\n",
              "      <td>0</td>\n",
              "      <td>0</td>\n",
              "      <td>0</td>\n",
              "      <td>0</td>\n",
              "      <td>0</td>\n",
              "      <td>...</td>\n",
              "      <td>0</td>\n",
              "      <td>1</td>\n",
              "      <td>0</td>\n",
              "      <td>0</td>\n",
              "      <td>0</td>\n",
              "      <td>0</td>\n",
              "      <td>0</td>\n",
              "      <td>0</td>\n",
              "      <td>0</td>\n",
              "      <td>0</td>\n",
              "    </tr>\n",
              "    <tr>\n",
              "      <th>3</th>\n",
              "      <td>96200</td>\n",
              "      <td>Renault</td>\n",
              "      <td>6950</td>\n",
              "      <td>110.0</td>\n",
              "      <td>2011</td>\n",
              "      <td>0</td>\n",
              "      <td>0</td>\n",
              "      <td>0</td>\n",
              "      <td>0</td>\n",
              "      <td>0</td>\n",
              "      <td>...</td>\n",
              "      <td>1</td>\n",
              "      <td>0</td>\n",
              "      <td>0</td>\n",
              "      <td>0</td>\n",
              "      <td>0</td>\n",
              "      <td>0</td>\n",
              "      <td>0</td>\n",
              "      <td>0</td>\n",
              "      <td>0</td>\n",
              "      <td>0</td>\n",
              "    </tr>\n",
              "    <tr>\n",
              "      <th>4</th>\n",
              "      <td>156000</td>\n",
              "      <td>Peugeot</td>\n",
              "      <td>6950</td>\n",
              "      <td>156.0</td>\n",
              "      <td>2011</td>\n",
              "      <td>0</td>\n",
              "      <td>0</td>\n",
              "      <td>0</td>\n",
              "      <td>0</td>\n",
              "      <td>0</td>\n",
              "      <td>...</td>\n",
              "      <td>0</td>\n",
              "      <td>0</td>\n",
              "      <td>0</td>\n",
              "      <td>0</td>\n",
              "      <td>0</td>\n",
              "      <td>0</td>\n",
              "      <td>0</td>\n",
              "      <td>0</td>\n",
              "      <td>0</td>\n",
              "      <td>0</td>\n",
              "    </tr>\n",
              "  </tbody>\n",
              "</table>\n",
              "<p>5 rows × 60 columns</p>\n",
              "</div>\n",
              "      <button class=\"colab-df-convert\" onclick=\"convertToInteractive('df-c390af37-fff0-445e-b713-be79f1ba0e8f')\"\n",
              "              title=\"Convert this dataframe to an interactive table.\"\n",
              "              style=\"display:none;\">\n",
              "        \n",
              "  <svg xmlns=\"http://www.w3.org/2000/svg\" height=\"24px\"viewBox=\"0 0 24 24\"\n",
              "       width=\"24px\">\n",
              "    <path d=\"M0 0h24v24H0V0z\" fill=\"none\"/>\n",
              "    <path d=\"M18.56 5.44l.94 2.06.94-2.06 2.06-.94-2.06-.94-.94-2.06-.94 2.06-2.06.94zm-11 1L8.5 8.5l.94-2.06 2.06-.94-2.06-.94L8.5 2.5l-.94 2.06-2.06.94zm10 10l.94 2.06.94-2.06 2.06-.94-2.06-.94-.94-2.06-.94 2.06-2.06.94z\"/><path d=\"M17.41 7.96l-1.37-1.37c-.4-.4-.92-.59-1.43-.59-.52 0-1.04.2-1.43.59L10.3 9.45l-7.72 7.72c-.78.78-.78 2.05 0 2.83L4 21.41c.39.39.9.59 1.41.59.51 0 1.02-.2 1.41-.59l7.78-7.78 2.81-2.81c.8-.78.8-2.07 0-2.86zM5.41 20L4 18.59l7.72-7.72 1.47 1.35L5.41 20z\"/>\n",
              "  </svg>\n",
              "      </button>\n",
              "      \n",
              "  <style>\n",
              "    .colab-df-container {\n",
              "      display:flex;\n",
              "      flex-wrap:wrap;\n",
              "      gap: 12px;\n",
              "    }\n",
              "\n",
              "    .colab-df-convert {\n",
              "      background-color: #E8F0FE;\n",
              "      border: none;\n",
              "      border-radius: 50%;\n",
              "      cursor: pointer;\n",
              "      display: none;\n",
              "      fill: #1967D2;\n",
              "      height: 32px;\n",
              "      padding: 0 0 0 0;\n",
              "      width: 32px;\n",
              "    }\n",
              "\n",
              "    .colab-df-convert:hover {\n",
              "      background-color: #E2EBFA;\n",
              "      box-shadow: 0px 1px 2px rgba(60, 64, 67, 0.3), 0px 1px 3px 1px rgba(60, 64, 67, 0.15);\n",
              "      fill: #174EA6;\n",
              "    }\n",
              "\n",
              "    [theme=dark] .colab-df-convert {\n",
              "      background-color: #3B4455;\n",
              "      fill: #D2E3FC;\n",
              "    }\n",
              "\n",
              "    [theme=dark] .colab-df-convert:hover {\n",
              "      background-color: #434B5C;\n",
              "      box-shadow: 0px 1px 3px 1px rgba(0, 0, 0, 0.15);\n",
              "      filter: drop-shadow(0px 1px 2px rgba(0, 0, 0, 0.3));\n",
              "      fill: #FFFFFF;\n",
              "    }\n",
              "  </style>\n",
              "\n",
              "      <script>\n",
              "        const buttonEl =\n",
              "          document.querySelector('#df-c390af37-fff0-445e-b713-be79f1ba0e8f button.colab-df-convert');\n",
              "        buttonEl.style.display =\n",
              "          google.colab.kernel.accessAllowed ? 'block' : 'none';\n",
              "\n",
              "        async function convertToInteractive(key) {\n",
              "          const element = document.querySelector('#df-c390af37-fff0-445e-b713-be79f1ba0e8f');\n",
              "          const dataTable =\n",
              "            await google.colab.kernel.invokeFunction('convertToInteractive',\n",
              "                                                     [key], {});\n",
              "          if (!dataTable) return;\n",
              "\n",
              "          const docLinkHtml = 'Like what you see? Visit the ' +\n",
              "            '<a target=\"_blank\" href=https://colab.research.google.com/notebooks/data_table.ipynb>data table notebook</a>'\n",
              "            + ' to learn more about interactive tables.';\n",
              "          element.innerHTML = '';\n",
              "          dataTable['output_type'] = 'display_data';\n",
              "          await google.colab.output.renderOutput(dataTable, element);\n",
              "          const docLink = document.createElement('div');\n",
              "          docLink.innerHTML = docLinkHtml;\n",
              "          element.appendChild(docLink);\n",
              "        }\n",
              "      </script>\n",
              "    </div>\n",
              "  </div>\n",
              "  "
            ]
          },
          "metadata": {},
          "execution_count": 101
        }
      ]
    },
    {
      "cell_type": "markdown",
      "source": [
        "As make is hard-encoded, so we can drop it"
      ],
      "metadata": {
        "id": "PqZVMuFIt6dC"
      }
    },
    {
      "cell_type": "code",
      "source": [
        "df7=df6.drop(['make'],axis='columns')\n",
        "df7.shape"
      ],
      "metadata": {
        "colab": {
          "base_uri": "https://localhost:8080/"
        },
        "id": "fLhbdc-Kt6fB",
        "outputId": "e1853e50-e08e-42ff-930c-0f33de344683"
      },
      "execution_count": 102,
      "outputs": [
        {
          "output_type": "execute_result",
          "data": {
            "text/plain": [
              "(46040, 59)"
            ]
          },
          "metadata": {},
          "execution_count": 102
        }
      ]
    },
    {
      "cell_type": "markdown",
      "source": [
        "Preparing Train and Test set"
      ],
      "metadata": {
        "id": "c04mp_MJuGIV"
      }
    },
    {
      "cell_type": "code",
      "source": [
        "x=df7.drop(['price'],axis='columns')\n",
        "x.shape"
      ],
      "metadata": {
        "colab": {
          "base_uri": "https://localhost:8080/"
        },
        "id": "Vhyg_hTstUgs",
        "outputId": "56b801ff-0da9-488b-846d-5f9ff778a769"
      },
      "execution_count": 105,
      "outputs": [
        {
          "output_type": "execute_result",
          "data": {
            "text/plain": [
              "(46040, 58)"
            ]
          },
          "metadata": {},
          "execution_count": 105
        }
      ]
    },
    {
      "cell_type": "code",
      "source": [
        "y=df7.price\n",
        "y.head()\n",
        "\n",
        "# sum(df7.mileage)"
      ],
      "metadata": {
        "colab": {
          "base_uri": "https://localhost:8080/"
        },
        "id": "0PBZoQPeuVvj",
        "outputId": "545d2baf-0454-49ae-ee47-644b956c0da6"
      },
      "execution_count": 108,
      "outputs": [
        {
          "output_type": "execute_result",
          "data": {
            "text/plain": [
              "0    6800\n",
              "1    6877\n",
              "2    6900\n",
              "3    6950\n",
              "4    6950\n",
              "Name: price, dtype: int64"
            ]
          },
          "metadata": {},
          "execution_count": 108
        }
      ]
    },
    {
      "cell_type": "code",
      "source": [
        "from sklearn.model_selection import train_test_split\n",
        "x_train,x_test,y_train,y_test=train_test_split(x,y,test_size=0.2,random_state=10)"
      ],
      "metadata": {
        "id": "4DxbJepwufTP"
      },
      "execution_count": 113,
      "outputs": []
    },
    {
      "cell_type": "code",
      "source": [
        "from sklearn.linear_model import LinearRegression\n",
        "lr_clf=LinearRegression()\n",
        "lr_clf.fit(x_train,y_train)\n",
        "lr_clf.score(x_test,y_test)"
      ],
      "metadata": {
        "colab": {
          "base_uri": "https://localhost:8080/"
        },
        "id": "jNCbyI7su8tp",
        "outputId": "aba856cd-f91c-46eb-aa1e-2c0a6abd94f3"
      },
      "execution_count": 114,
      "outputs": [
        {
          "output_type": "execute_result",
          "data": {
            "text/plain": [
              "0.7809593329826316"
            ]
          },
          "metadata": {},
          "execution_count": 114
        }
      ]
    },
    {
      "cell_type": "markdown",
      "source": [
        "Cross_validation"
      ],
      "metadata": {
        "id": "DbJyOiWwxQDm"
      }
    },
    {
      "cell_type": "code",
      "source": [
        "from sklearn.model_selection import ShuffleSplit\n",
        "from sklearn.model_selection import cross_val_score\n",
        "\n",
        "cv=ShuffleSplit(n_splits=5,test_size=0.2,random_state=0)\n",
        "cross_val=cross_val_score(LinearRegression(),x,y,cv=cv)\n",
        "cross_val"
      ],
      "metadata": {
        "colab": {
          "base_uri": "https://localhost:8080/"
        },
        "id": "Gvn-I_VzvcUv",
        "outputId": "652a1738-c58c-418a-8e71-71cb3756a49a"
      },
      "execution_count": 125,
      "outputs": [
        {
          "output_type": "execute_result",
          "data": {
            "text/plain": [
              "array([0.78930057, 0.79564121, 0.84024561, 0.6810871 , 0.79522155])"
            ]
          },
          "metadata": {},
          "execution_count": 125
        }
      ]
    },
    {
      "cell_type": "code",
      "source": [
        "max(cross_val)\n"
      ],
      "metadata": {
        "colab": {
          "base_uri": "https://localhost:8080/"
        },
        "id": "TjXAygVyxeFN",
        "outputId": "d73cc67f-d44e-4276-9706-0263c84d84a3"
      },
      "execution_count": 132,
      "outputs": [
        {
          "output_type": "execute_result",
          "data": {
            "text/plain": [
              "0.8402456111653037"
            ]
          },
          "metadata": {},
          "execution_count": 132
        }
      ]
    },
    {
      "cell_type": "code",
      "source": [
        "def predict_price(mileage,hp,year,make):\n",
        "  loc_index=np.where(x.columns==make)[0][0]\n",
        "  \n",
        "  Xx=np.zeros(len(x.columns))\n",
        "  Xx[0]=mileage\n",
        "  Xx[1]=hp\n",
        "  Xx[2]=year\n",
        "  if loc_index>=0:\n",
        "    Xx[loc_index]=1\n",
        "  return lr_clf.predict([Xx])[0]\n"
      ],
      "metadata": {
        "id": "LQXiG5xzxweX"
      },
      "execution_count": 133,
      "outputs": []
    },
    {
      "cell_type": "code",
      "source": [
        "predict_price(200000,150, 2011, 'Ford')\n"
      ],
      "metadata": {
        "colab": {
          "base_uri": "https://localhost:8080/"
        },
        "id": "5PZvpd93ytVI",
        "outputId": "1b8061a5-7041-45ce-fe59-c9e8c85a7b39"
      },
      "execution_count": 134,
      "outputs": [
        {
          "output_type": "stream",
          "name": "stderr",
          "text": [
            "/usr/local/lib/python3.8/dist-packages/sklearn/base.py:450: UserWarning: X does not have valid feature names, but LinearRegression was fitted with feature names\n",
            "  warnings.warn(\n"
          ]
        },
        {
          "output_type": "execute_result",
          "data": {
            "text/plain": [
              "5236.281438962091"
            ]
          },
          "metadata": {},
          "execution_count": 134
        }
      ]
    },
    {
      "cell_type": "code",
      "source": [
        "predict_price(200000,200, 2016, 'Audi')\n"
      ],
      "metadata": {
        "colab": {
          "base_uri": "https://localhost:8080/"
        },
        "id": "auWTIASaz4Vt",
        "outputId": "301c3805-9ce8-48ed-97cd-c5050a7d6dbb"
      },
      "execution_count": 140,
      "outputs": [
        {
          "output_type": "stream",
          "name": "stderr",
          "text": [
            "/usr/local/lib/python3.8/dist-packages/sklearn/base.py:450: UserWarning: X does not have valid feature names, but LinearRegression was fitted with feature names\n",
            "  warnings.warn(\n"
          ]
        },
        {
          "output_type": "execute_result",
          "data": {
            "text/plain": [
              "22454.4966823617"
            ]
          },
          "metadata": {},
          "execution_count": 140
        }
      ]
    },
    {
      "cell_type": "code",
      "source": [
        "predict_price(200000,200, 2021, 'BMW')\n"
      ],
      "metadata": {
        "colab": {
          "base_uri": "https://localhost:8080/"
        },
        "id": "LA5f_sYg0Ek-",
        "outputId": "5feddcd8-5c86-4395-e8b0-d0151930867d"
      },
      "execution_count": 141,
      "outputs": [
        {
          "output_type": "stream",
          "name": "stderr",
          "text": [
            "/usr/local/lib/python3.8/dist-packages/sklearn/base.py:450: UserWarning: X does not have valid feature names, but LinearRegression was fitted with feature names\n",
            "  warnings.warn(\n"
          ]
        },
        {
          "output_type": "execute_result",
          "data": {
            "text/plain": [
              "24199.571875155438"
            ]
          },
          "metadata": {},
          "execution_count": 141
        }
      ]
    }
  ]
}